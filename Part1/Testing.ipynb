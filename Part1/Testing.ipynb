{
 "cells": [
  {
   "cell_type": "code",
   "execution_count": 1,
   "metadata": {
    "vscode": {
     "languageId": "java"
    }
   },
   "outputs": [],
   "source": [
    "import java.util.Scanner;\n",
    "\n",
    "/**\n",
    " * The class Horse is made up of multiple private attributes to ensure the use of encapsulation, the attributes defined in the horse method\n",
    " * define the performance of the horse within a race, and the features of the horse such as symbol and name. All of these methods have public methods assgined to them to make any sort of changes to the values,\n",
    " * as some attributes require conditions to be met for them to be inputted or used.\n",
    " * \n",
    " * @author Ayaan Gauhar\n",
    " * @version 1.0.1\n",
    " */\n",
    "public class Horse\n",
    "{\n",
    "    //Fields of class Horse\n",
    "    private String horseName;\n",
    "    private char horseSymbol;\n",
    "    private int distance;\n",
    "    private boolean fallen;\n",
    "    private double horseConfidence;\n",
    "      \n",
    "    //Constructor of class Horse\n",
    "    /**\n",
    "     * Constructor for objects of class Horse\n",
    "     * \n",
    "     * @param horseSymbol This assigns the symbol choosen by the user to this object horse created\n",
    "     * @param horseName This assigns the name provided by the user to this instance of horse\n",
    "     * @param horseConfidence This instantiates the horseconfidence attrubute of the current instance of horseSS\n",
    "     */\n",
    "    public Horse(char horseSymbol, String horseName, double horseConfidence){\n",
    "        this.horseName = horseName;\n",
    "        this.horseSymbol = horseSymbol;\n",
    "        this.horseConfidence = horseConfidence;\n",
    "        this.fallen = false;\n",
    "        this.distance = 0;\n",
    "    }\n",
    "    \n",
    "    \n",
    "    //Other methods of class Horse\n",
    "    public void fall(){\n",
    "        this.fallen = true;\n",
    "    }\n",
    "\n",
    "    public void goBackToStart(){\n",
    "        this.distance = 0;\n",
    "    }\n",
    "\n",
    "    public void moveForward(){\n",
    "        this.distance++;\n",
    "    }\n",
    "\n",
    "    public void setConfidence(double newConfidence){\n",
    "        if (newConfidence >= 0 && newConfidence <= 1){\n",
    "            this.horseConfidence = newConfidence;\n",
    "        }\n",
    "        else{\n",
    "            System.out.println(\"Error input out of bounds\");\n",
    "        } \n",
    "    }\n",
    "\n",
    "    public void setSymbol(char newSymbol){\n",
    "        this.horseSymbol = newSymbol;\n",
    "    }\n",
    "\n",
    "    public double getConfidence(){\n",
    "        return this.horseConfidence;\n",
    "    }\n",
    "\n",
    "    public int getDistanceTravelled(){\n",
    "        return this.distance;\n",
    "    }\n",
    "\n",
    "    public String getName(){\n",
    "        return this.horseName;\n",
    "    }\n",
    "\n",
    "    public char getSymbol(){\n",
    "        return this.horseSymbol;\n",
    "    }\n",
    "\n",
    "    public boolean hasFallen(){\n",
    "        return this.fallen;\n",
    "    }\n",
    "}\n"
   ]
  },
  {
   "cell_type": "markdown",
   "metadata": {},
   "source": [
    "## Testing the Contructor Method"
   ]
  },
  {
   "cell_type": "code",
   "execution_count": 4,
   "metadata": {
    "vscode": {
     "languageId": "java"
    }
   },
   "outputs": [
    {
     "name": "stdout",
     "output_type": "stream",
     "text": [
      "What is the symbol of the horse?\n"
     ]
    },
    {
     "name": "stdout",
     "output_type": "stream",
     "text": [
      "What is the horses name?\n",
      "What is the confidence of the horse?\n"
     ]
    }
   ],
   "source": [
    "public static String input (String output){\n",
    "    Scanner scanner = new Scanner(System.in);\n",
    "    System.out.println(output);\n",
    "    String text = scanner.nextLine();\n",
    "    return text;\n",
    "} // End of input\n",
    "\n",
    "char horseSymbol = input(\"What is the symbol of the horse?\").charAt(0); \n",
    "String horseName = input(\"What is the horses name?\");\n",
    "double horseConfidence = Double.valueOf(input(\"What is the confidence of the horse?\"));\n",
    "Horse H = new Horse(horseSymbol, horseName, horseConfidence);"
   ]
  },
  {
   "cell_type": "markdown",
   "metadata": {},
   "source": [
    "## Texting the get method"
   ]
  },
  {
   "cell_type": "code",
   "execution_count": null,
   "metadata": {
    "vscode": {
     "languageId": "java"
    }
   },
   "outputs": [],
   "source": []
  }
 ],
 "metadata": {
  "kernelspec": {
   "display_name": "Java",
   "language": "java",
   "name": "java"
  },
  "language_info": {
   "codemirror_mode": "java",
   "file_extension": ".jshell",
   "mimetype": "text/x-java-source",
   "name": "Java",
   "pygments_lexer": "java",
   "version": "11.0.8+10-LTS"
  }
 },
 "nbformat": 4,
 "nbformat_minor": 2
}
