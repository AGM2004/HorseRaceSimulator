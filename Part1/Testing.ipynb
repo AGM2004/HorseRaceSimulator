{
 "cells": [
  {
   "cell_type": "code",
   "execution_count": 1,
   "metadata": {
    "vscode": {
     "languageId": "java"
    }
   },
   "outputs": [],
   "source": [
    "import java.util.Scanner;\n",
    "\n",
    "/**\n",
    " * The class Horse is made up of multiple private attributes to ensure the use of encapsulation, the attributes defined in the horse method\n",
    " * define the performance of the horse within a race, and the features of the horse such as symbol and name. All of these methods have public methods assgined to them to make any sort of changes to the values,\n",
    " * as some attributes require conditions to be met for them to be inputted or used.\n",
    " * \n",
    " * @author Ayaan Gauhar\n",
    " * @version 1.0.2\n",
    " */\n",
    "public class Horse\n",
    "{\n",
    "    //Fields of class Horse\n",
    "    private String horseName;\n",
    "    private char horseSymbol;\n",
    "    private int distance;\n",
    "    private boolean fallen;\n",
    "    private double horseConfidence;\n",
    "      \n",
    "    //Constructor of class Horse\n",
    "    /**\n",
    "     * Constructor for objects of class Horse\n",
    "     * \n",
    "     * @param horseSymbol This assigns the symbol choosen by the user to this object horse created\n",
    "     * @param horseName This assigns the name provided by the user to this instance of horse\n",
    "     * @param horseConfidence This instantiates the horseconfidence attrubute of the current instance of horseSS\n",
    "     */\n",
    "    public Horse(char horseSymbol, String horseName, double horseConfidence){\n",
    "        this.horseName = horseName;\n",
    "        this.horseSymbol = horseSymbol;\n",
    "        this.fallen = false;\n",
    "        this.distance = 0;\n",
    "        while (horseConfidence<0 || horseConfidence>1){\n",
    "            horseConfidence = Double.valueOf(input(\"Error, input was out of bounds \\n Enter the horses confidence again, the bound is between 0 to 1\"));\n",
    "        }\n",
    "        this.horseConfidence = horseConfidence;\n",
    "    }\n",
    "\n",
    "    // This method is used to tale an input from a user, a string in specific\n",
    "    public static String input (String output)\n",
    "    {\n",
    "        Scanner scanner = new Scanner(System.in);\n",
    "        System.out.println(output);\n",
    "        String text = scanner.nextLine();\n",
    "        return text;\n",
    "    } // End of input\n",
    "    \n",
    "    // This method is used for printing out text\n",
    "    public static void print (String text)\n",
    "    {\n",
    "        System.out.println(text);\n",
    "        return;\n",
    "    } // End of print\n",
    "    \n",
    "    \n",
    "    //Other methods of class Horse\n",
    "    public void fall(){\n",
    "        this.fallen = true;\n",
    "    }\n",
    "\n",
    "    public void goBackToStart(){\n",
    "        this.distance = 0;\n",
    "    }\n",
    "\n",
    "    public void moveForward(){\n",
    "        this.distance++;\n",
    "    }\n",
    "\n",
    "    public void setConfidence(double newConfidence){\n",
    "        while (newConfidence<0 || newConfidence>1){\n",
    "            newConfidence = Double.valueOf(input(\"Error, input was out of bounds \\n Enter the horses confidence again, the bound is between 0 to 1\"));\n",
    "        }\n",
    "        this.horseConfidence = newConfidence;\n",
    "    }\n",
    "\n",
    "    public void setSymbol(char newSymbol){\n",
    "        this.horseSymbol = newSymbol;\n",
    "    }\n",
    "\n",
    "    public double getConfidence(){\n",
    "        return this.horseConfidence;\n",
    "    }\n",
    "\n",
    "    public int getDistanceTravelled(){\n",
    "        return this.distance;\n",
    "    }\n",
    "\n",
    "    public String getName(){\n",
    "        return this.horseName;\n",
    "    }\n",
    "\n",
    "    public char getSymbol(){\n",
    "        return this.horseSymbol;\n",
    "    }\n",
    "\n",
    "    public boolean hasFallen(){\n",
    "        return this.fallen;\n",
    "    }\n",
    "}\n"
   ]
  },
  {
   "cell_type": "markdown",
   "metadata": {},
   "source": [
    "## Testing the Contructor Method"
   ]
  },
  {
   "cell_type": "code",
   "execution_count": 2,
   "metadata": {
    "vscode": {
     "languageId": "java"
    }
   },
   "outputs": [
    {
     "name": "stdout",
     "output_type": "stream",
     "text": [
      "What is the symbol of the horse?\n",
      "What is the horses name?\n",
      "What is the confidence of the horse?\n",
      "Error, input was out of bounds \n",
      " Enter the horses confidence again, the bound is between 0 to 1\n"
     ]
    }
   ],
   "source": [
    "// This method is used to tale an input from a user, a string in specific\n",
    "public static String input (String output)\n",
    "{\n",
    "    Scanner scanner = new Scanner(System.in);\n",
    "    System.out.println(output);\n",
    "    String text = scanner.nextLine();\n",
    "    return text;\n",
    "} // End of input\n",
    "\n",
    "char horseSymbol = input(\"What is the symbol of the horse?\").charAt(0); \n",
    "String horseName = input(\"What is the horses name?\");\n",
    "double horseConfidence = Double.valueOf(input(\"What is the confidence of the horse?\"));\n",
    "Horse H = new Horse(horseSymbol, horseName, horseConfidence);"
   ]
  },
  {
   "cell_type": "markdown",
   "metadata": {},
   "source": [
    "## Texting the get method"
   ]
  },
  {
   "cell_type": "code",
   "execution_count": 3,
   "metadata": {
    "vscode": {
     "languageId": "java"
    }
   },
   "outputs": [
    {
     "name": "stdout",
     "output_type": "stream",
     "text": [
      "0.2\n",
      "0\n",
      "ghora\n",
      "@\n",
      "false\n"
     ]
    }
   ],
   "source": [
    "// This method is used for printing out text\n",
    "public static void print (String text)\n",
    "{\n",
    "    System.out.println(text);\n",
    "    return;\n",
    "} // End of print\n",
    "\n",
    "\n",
    "print(String.valueOf(H.getConfidence()));\n",
    "print(String.valueOf(H.getDistanceTravelled()));\n",
    "print(H.getName());\n",
    "print(String.valueOf(H.getSymbol()));\n",
    "print(String.valueOf(H.hasFallen()));"
   ]
  },
  {
   "cell_type": "markdown",
   "metadata": {},
   "source": [
    "## Testing Set Method"
   ]
  },
  {
   "cell_type": "code",
   "execution_count": 4,
   "metadata": {
    "vscode": {
     "languageId": "java"
    }
   },
   "outputs": [
    {
     "name": "stdout",
     "output_type": "stream",
     "text": [
      "false\n"
     ]
    },
    {
     "name": "stdout",
     "output_type": "stream",
     "text": [
      "true\n",
      "\n",
      "\n",
      "0\n",
      "1\n",
      "0\n",
      "\n",
      "\n",
      "0.2\n",
      "Enter new confidence level\n",
      "Error, input was out of bounds \n",
      " Enter the horses confidence again, the bound is between 0 to 1\n",
      "0.5\n",
      "\n",
      "\n",
      "@\n",
      "What is the symbol of the horse?\n",
      "$\n"
     ]
    }
   ],
   "source": [
    "// Testing the chnage fall method\n",
    "print(String.valueOf(H.hasFallen()));\n",
    "H.fall();\n",
    "print(String.valueOf(H.hasFallen()));\n",
    "\n",
    "print(\"\\n\");\n",
    "\n",
    "// Testing the distance methods\n",
    "print(String.valueOf(H.getDistanceTravelled()));\n",
    "H.moveForward();\n",
    "print(String.valueOf(H.getDistanceTravelled()));\n",
    "H.goBackToStart();\n",
    "print(String.valueOf(H.getDistanceTravelled()));\n",
    "\n",
    "print(\"\\n\");\n",
    "\n",
    "// Testing the set confidence method\n",
    "print(String.valueOf(H.getConfidence()));\n",
    "H.setConfidence(Double.valueOf(H.input(\"Enter new confidence level\")));\n",
    "print(String.valueOf(H.getConfidence()));\n",
    "\n",
    "print(\"\\n\");\n",
    "\n",
    "// Testing the set symbol method\n",
    "print(String.valueOf(H.getSymbol()));\n",
    "H.setSymbol(H.input(\"What is the symbol of the horse?\").charAt(0));\n",
    "print(String.valueOf(H.getSymbol()));"
   ]
  }
 ],
 "metadata": {
  "kernelspec": {
   "display_name": "Java",
   "language": "java",
   "name": "java"
  },
  "language_info": {
   "codemirror_mode": "java",
   "file_extension": ".jshell",
   "mimetype": "text/x-java-source",
   "name": "Java",
   "pygments_lexer": "java",
   "version": "11.0.8+10-LTS"
  }
 },
 "nbformat": 4,
 "nbformat_minor": 2
}
